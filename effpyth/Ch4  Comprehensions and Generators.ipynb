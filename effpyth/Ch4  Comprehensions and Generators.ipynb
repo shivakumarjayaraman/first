{
 "cells": [
  {
   "cell_type": "markdown",
   "metadata": {},
   "source": [
    "*Item 27 : Use comprehensions instead of map and filter*\n"
   ]
  },
  {
   "cell_type": "code",
   "execution_count": 3,
   "metadata": {},
   "outputs": [
    {
     "name": "stdout",
     "output_type": "stream",
     "text": [
      "[0, 1, 4, 9, 16, 25, 36, 49, 64, 81]\n"
     ]
    }
   ],
   "source": [
    "squares = [x * x for x in range(10)]\n",
    "print(squares)\n",
    "alt = map(lambda x : x*x, range(10))\n",
    "print (list(alt))"
   ]
  },
  {
   "cell_type": "code",
   "execution_count": 7,
   "metadata": {},
   "outputs": [
    {
     "name": "stdout",
     "output_type": "stream",
     "text": [
      "[0, 4, 16, 36, 64]\n",
      "[0, 4, 16, 36, 64]\n"
     ]
    }
   ],
   "source": [
    "sqs_of_x = [x*x for x in range(10) if x % 2 == 0]\n",
    "print (sqs_of_x)\n",
    "alt = map(lambda x: x*x, filter(lambda x : x%2 == 0, range(10)))\n",
    "print (list(alt))"
   ]
  },
  {
   "cell_type": "markdown",
   "metadata": {},
   "source": [
    "*Item 28 : Avoid more than two control subexpressions in comprehensions*"
   ]
  },
  {
   "cell_type": "code",
   "execution_count": 9,
   "metadata": {},
   "outputs": [
    {
     "name": "stdout",
     "output_type": "stream",
     "text": [
      "[1, 2, 3, 4, 5, 6, 7, 8, 9]\n"
     ]
    }
   ],
   "source": [
    "matrix = [[1, 2, 3], [4, 5, 6], [7, 8, 9]]\n",
    "flat = [x for row in matrix for x in row]\n",
    "print (flat)"
   ]
  },
  {
   "cell_type": "code",
   "execution_count": 11,
   "metadata": {},
   "outputs": [
    {
     "name": "stdout",
     "output_type": "stream",
     "text": [
      "[[1, 4, 9], [16, 25, 36], [49, 64, 81]]\n"
     ]
    }
   ],
   "source": [
    "mat_sq = [[x*x for x in row] for row in matrix]\n",
    "print (mat_sq)"
   ]
  },
  {
   "cell_type": "markdown",
   "metadata": {},
   "source": [
    "*Item 29 : Avoid repeated work in comprehensions by using assignment expressions*"
   ]
  },
  {
   "cell_type": "markdown",
   "metadata": {},
   "source": [
    "## walrus operator to avoid repeated computations\n",
    "\n",
    "found = {name: batches for name in orders if (batches := get_batches(stock.get(name, 0), 8)"
   ]
  },
  {
   "cell_type": "markdown",
   "metadata": {},
   "source": [
    "*Item 30 : Consider generators instead of returning lists*"
   ]
  },
  {
   "cell_type": "code",
   "execution_count": 15,
   "metadata": {},
   "outputs": [
    {
     "name": "stdout",
     "output_type": "stream",
     "text": [
      "[0, 5, 11, 15, 21, 27]\n",
      "ago\n"
     ]
    }
   ],
   "source": [
    "def index_string(text) :\n",
    "    result = []\n",
    "    if text : result.append(0)\n",
    "    \n",
    "    for i, c in enumerate(text) :\n",
    "        if c == ' ' :\n",
    "            result.append(i+1)\n",
    "    return result\n",
    "\n",
    "t = \"Four score and seven years ago\"\n",
    "i = index_string(t)\n",
    "print (i)\n",
    "print (t[i[-1]:])"
   ]
  },
  {
   "cell_type": "code",
   "execution_count": 17,
   "metadata": {},
   "outputs": [
    {
     "name": "stdout",
     "output_type": "stream",
     "text": [
      "[0, 5, 11, 15, 21, 27]\n",
      "<generator object index_words at 0x7f7f727e5ad0>\n"
     ]
    }
   ],
   "source": [
    "## better way\n",
    "def index_words(text) :\n",
    "    if text: yield 0\n",
    "    for i, c in enumerate(text) :\n",
    "        if c == ' ' : yield i+1\n",
    "            \n",
    "print (list(index_words(t)))\n",
    "print (index_words(t))"
   ]
  },
  {
   "cell_type": "code",
   "execution_count": 19,
   "metadata": {},
   "outputs": [
    {
     "name": "stdout",
     "output_type": "stream",
     "text": [
      "0\n",
      "5\n"
     ]
    }
   ],
   "source": [
    "g = index_words(t)\n",
    "print (next(g))\n",
    "print (next(g))\n"
   ]
  },
  {
   "cell_type": "markdown",
   "metadata": {},
   "source": [
    "*Item 31 : Be Defensive when iterating over arguments*"
   ]
  },
  {
   "cell_type": "code",
   "execution_count": 21,
   "metadata": {},
   "outputs": [
    {
     "name": "stdout",
     "output_type": "stream",
     "text": [
      "Total is 130\n",
      "[11.538461538461538, 26.923076923076923, 61.53846153846154]\n"
     ]
    }
   ],
   "source": [
    "## function that exhausts the iterable twice (one for sum)\n",
    "## fails if you pass in a generator\n",
    "def normalize(numbers) :\n",
    "    total = sum(numbers)\n",
    "    print (f\"Total is {total}\")\n",
    "    return [x*100/total for x in numbers]\n",
    "\n",
    "print (normalize([15, 35, 80]))"
   ]
  },
  {
   "cell_type": "code",
   "execution_count": 22,
   "metadata": {},
   "outputs": [
    {
     "name": "stdout",
     "output_type": "stream",
     "text": [
      "Total is 130\n",
      "[]\n"
     ]
    }
   ],
   "source": [
    "def makegen(numbers) :\n",
    "    for i in numbers :\n",
    "        yield i\n",
    "        \n",
    "print (normalize(makegen([15, 35, 80])))"
   ]
  },
  {
   "cell_type": "code",
   "execution_count": 24,
   "metadata": {},
   "outputs": [
    {
     "name": "stdout",
     "output_type": "stream",
     "text": [
      "Total is 130\n",
      "[11.538461538461538, 26.923076923076923, 61.53846153846154]\n"
     ]
    }
   ],
   "source": [
    "class MyIter :\n",
    "    def __init__(self, values) :\n",
    "        self.data = values\n",
    "    \n",
    "    def __iter__(self) :\n",
    "        for i in self.data :\n",
    "            yield i\n",
    "            \n",
    "\n",
    "it = MyIter([15, 35, 80])\n",
    "print (normalize(it))"
   ]
  },
  {
   "cell_type": "code",
   "execution_count": 27,
   "metadata": {},
   "outputs": [
    {
     "name": "stdout",
     "output_type": "stream",
     "text": [
      "15\n",
      "35\n",
      "80\n"
     ]
    }
   ],
   "source": [
    "for i in it:\n",
    "    print (i)"
   ]
  },
  {
   "cell_type": "code",
   "execution_count": 29,
   "metadata": {},
   "outputs": [
    {
     "data": {
      "text/plain": [
       "False"
      ]
     },
     "execution_count": 29,
     "metadata": {},
     "output_type": "execute_result"
    }
   ],
   "source": [
    "from collections.abc import Iterator\n",
    "isinstance(it, Iterator)\n"
   ]
  },
  {
   "cell_type": "code",
   "execution_count": 31,
   "metadata": {},
   "outputs": [
    {
     "data": {
      "text/plain": [
       "True"
      ]
     },
     "execution_count": 31,
     "metadata": {},
     "output_type": "execute_result"
    }
   ],
   "source": [
    "l = [1, 2, 3]\n",
    "isinstance(l, list)"
   ]
  },
  {
   "cell_type": "markdown",
   "metadata": {},
   "source": [
    "*Item 32: Consider Generator Expressions for Large List Comprehensions*"
   ]
  },
  {
   "cell_type": "code",
   "execution_count": null,
   "metadata": {},
   "outputs": [],
   "source": []
  }
 ],
 "metadata": {
  "kernelspec": {
   "display_name": "Python 3",
   "language": "python",
   "name": "python3"
  },
  "language_info": {
   "codemirror_mode": {
    "name": "ipython",
    "version": 3
   },
   "file_extension": ".py",
   "mimetype": "text/x-python",
   "name": "python",
   "nbconvert_exporter": "python",
   "pygments_lexer": "ipython3",
   "version": "3.7.4"
  }
 },
 "nbformat": 4,
 "nbformat_minor": 2
}
