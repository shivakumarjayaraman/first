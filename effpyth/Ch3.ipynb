{
 "cells": [
  {
   "cell_type": "markdown",
   "metadata": {},
   "source": [
    "# Functions #\n",
    "\n"
   ]
  },
  {
   "cell_type": "markdown",
   "metadata": {},
   "source": [
    "*Item 19 : Never Unpack more than three variables when functions return multiple values*"
   ]
  },
  {
   "cell_type": "code",
   "execution_count": 5,
   "metadata": {},
   "outputs": [
    {
     "name": "stdout",
     "output_type": "stream",
     "text": [
      "Longest  : 108% 500.000000%\n",
      "Shortest :  89%\n"
     ]
    }
   ],
   "source": [
    "def get_avg_ratio(numbers) :\n",
    "    average = sum(numbers)/len(numbers)\n",
    "    scaled = [x/average for x in numbers]\n",
    "    scaled.sort(reverse=True)\n",
    "    return scaled\n",
    "\n",
    "lengths = [63, 73, 72, 60, 67, 66, 71, 61, 72, 70]\n",
    "longest, *middle, shortest = get_avg_ratio(lengths)\n",
    "k=5\n",
    "print (f\"Longest  : {longest:>4.0%} {k:%}\")\n",
    "print (f\"Shortest : {shortest:>4.0%}\")\n",
    "\n",
    "\n",
    "## use a lightweight class or namedtuple if you need to return more than 3"
   ]
  },
  {
   "cell_type": "markdown",
   "metadata": {},
   "source": [
    "*Item 20 : Prefer raising exceptions to returning None*\n",
    "\n",
    "Nones can be confused with a 0 return (if nr is zero) . Easy programmer error is possible\n"
   ]
  },
  {
   "cell_type": "code",
   "execution_count": 6,
   "metadata": {},
   "outputs": [
    {
     "name": "stdout",
     "output_type": "stream",
     "text": [
      "Invalid inputs\n"
     ]
    },
    {
     "ename": "TypeError",
     "evalue": "unsupported operand type(s) for /: 'int' and 'str'",
     "output_type": "error",
     "traceback": [
      "\u001b[0;31m---------------------------------------------------------------------------\u001b[0m",
      "\u001b[0;31mTypeError\u001b[0m                                 Traceback (most recent call last)",
      "\u001b[0;32m<ipython-input-6-4b9f1c455f2a>\u001b[0m in \u001b[0;36m<module>\u001b[0;34m\u001b[0m\n\u001b[1;32m     14\u001b[0m \u001b[0mcareful_divide\u001b[0m\u001b[0;34m(\u001b[0m\u001b[0;36m0\u001b[0m\u001b[0;34m,\u001b[0m \u001b[0;36m8\u001b[0m\u001b[0;34m)\u001b[0m\u001b[0;34m\u001b[0m\u001b[0;34m\u001b[0m\u001b[0m\n\u001b[1;32m     15\u001b[0m \u001b[0;34m\u001b[0m\u001b[0m\n\u001b[0;32m---> 16\u001b[0;31m \u001b[0mcareful_divide\u001b[0m\u001b[0;34m(\u001b[0m\u001b[0;36m9\u001b[0m\u001b[0;34m,\u001b[0m \u001b[0;34m'a'\u001b[0m\u001b[0;34m)\u001b[0m\u001b[0;34m\u001b[0m\u001b[0;34m\u001b[0m\u001b[0m\n\u001b[0m\u001b[1;32m     17\u001b[0m \u001b[0;34m\u001b[0m\u001b[0m\n",
      "\u001b[0;32m<ipython-input-6-4b9f1c455f2a>\u001b[0m in \u001b[0;36mcareful_divide\u001b[0;34m(a, b)\u001b[0m\n\u001b[1;32m      3\u001b[0m \u001b[0;32mdef\u001b[0m \u001b[0mcareful_divide\u001b[0m\u001b[0;34m(\u001b[0m\u001b[0ma\u001b[0m \u001b[0;34m:\u001b[0m \u001b[0mfloat\u001b[0m\u001b[0;34m,\u001b[0m \u001b[0mb\u001b[0m \u001b[0;34m:\u001b[0m \u001b[0mfloat\u001b[0m\u001b[0;34m)\u001b[0m \u001b[0;34m->\u001b[0m \u001b[0mfloat\u001b[0m \u001b[0;34m:\u001b[0m\u001b[0;34m\u001b[0m\u001b[0;34m\u001b[0m\u001b[0m\n\u001b[1;32m      4\u001b[0m     \u001b[0;32mtry\u001b[0m \u001b[0;34m:\u001b[0m\u001b[0;34m\u001b[0m\u001b[0;34m\u001b[0m\u001b[0m\n\u001b[0;32m----> 5\u001b[0;31m         \u001b[0;32mreturn\u001b[0m \u001b[0ma\u001b[0m\u001b[0;34m/\u001b[0m\u001b[0mb\u001b[0m\u001b[0;34m\u001b[0m\u001b[0;34m\u001b[0m\u001b[0m\n\u001b[0m\u001b[1;32m      6\u001b[0m     \u001b[0;32mexcept\u001b[0m \u001b[0mZeroDivisionError\u001b[0m \u001b[0;32mas\u001b[0m \u001b[0me\u001b[0m \u001b[0;34m:\u001b[0m\u001b[0;34m\u001b[0m\u001b[0;34m\u001b[0m\u001b[0m\n\u001b[1;32m      7\u001b[0m         \u001b[0;32mraise\u001b[0m \u001b[0mValueError\u001b[0m\u001b[0;34m(\u001b[0m\u001b[0;34m\"Invalid inputs\"\u001b[0m\u001b[0;34m)\u001b[0m\u001b[0;34m\u001b[0m\u001b[0;34m\u001b[0m\u001b[0m\n",
      "\u001b[0;31mTypeError\u001b[0m: unsupported operand type(s) for /: 'int' and 'str'"
     ]
    }
   ],
   "source": [
    "## use exceptions and use type annotations .. lets try that\n",
    "\n",
    "def careful_divide(a : float, b : float) -> float :\n",
    "    try :\n",
    "        return a/b\n",
    "    except ZeroDivisionError as e :\n",
    "        raise ValueError(\"Invalid inputs\")\n",
    "\n",
    "careful_divide(5, 6)\n",
    "try :\n",
    "    careful_divide(8, 0)\n",
    "except ValueError as e :\n",
    "    print (e)\n",
    "careful_divide(0, 8)\n",
    "\n",
    "careful_divide(9, 'a')\n",
    "    "
   ]
  },
  {
   "cell_type": "markdown",
   "metadata": {},
   "source": [
    "*Item 21 : Know How Closures interact with variable scope*"
   ]
  },
  {
   "cell_type": "code",
   "execution_count": 7,
   "metadata": {},
   "outputs": [
    {
     "name": "stdout",
     "output_type": "stream",
     "text": [
      "[2, 3, 5, 7, 1, 4, 6, 8] True\n"
     ]
    }
   ],
   "source": [
    "def sort_priority(values, group) :\n",
    "    found = False\n",
    "    def helper(x) :\n",
    "        if x in group :\n",
    "            ## if found is not declared nonlocal, the assignment will create a new local variable \n",
    "            ## and shit wont work\n",
    "            nonlocal found\n",
    "            found = True\n",
    "            return (0, x)\n",
    "        return (1, x)\n",
    "    \n",
    "    values.sort(key=helper)\n",
    "    return found\n",
    "\n",
    "numbers = [8, 3, 1, 2, 5, 4, 7, 6]\n",
    "group = {2, 3, 5, 7}\n",
    "\n",
    "f = sort_priority(numbers, group)\n",
    "print (numbers, f)"
   ]
  },
  {
   "cell_type": "code",
   "execution_count": 8,
   "metadata": {},
   "outputs": [
    {
     "name": "stdout",
     "output_type": "stream",
     "text": [
      "[2, 3, 5, 7, 1, 4, 6, 8]\n",
      "True\n"
     ]
    }
   ],
   "source": [
    "## Better way\n",
    "\n",
    "class Sorter :\n",
    "    def __init__(self, group) :\n",
    "        self.group = group\n",
    "        self.found = False\n",
    "    def __call__(self, x) :\n",
    "        if x in self.group :\n",
    "            self.found = True\n",
    "            return (0, x)\n",
    "        return (1, x)\n",
    "\n",
    "numbers = [8, 3, 1, 2, 5, 4, 7, 6]\n",
    "group = {2, 3, 5, 7}\n",
    "\n",
    "s = Sorter(group)\n",
    "numbers.sort(key=s)\n",
    "print (numbers)\n",
    "print (s.found)"
   ]
  },
  {
   "cell_type": "markdown",
   "metadata": {},
   "source": [
    "*Item 22 : Reduce visual noise with variable positional arguments*\n"
   ]
  },
  {
   "cell_type": "code",
   "execution_count": 9,
   "metadata": {},
   "outputs": [
    {
     "name": "stdout",
     "output_type": "stream",
     "text": [
      "hello\n",
      "Values is  ([1, 2, 3],)\n",
      "hello: [1, 2, 3]\n",
      "Values is  (1, 2, 3)\n",
      "hello: 1,2,3\n"
     ]
    }
   ],
   "source": [
    "def log(message, *values) :\n",
    "    if not values :\n",
    "        print (message)\n",
    "    else :\n",
    "        print (\"Values is \", values)\n",
    "        values_str = \",\".join(str(x) for x in values)\n",
    "        print (f\"{message}: {values_str}\")\n",
    "        \n",
    "log(\"hello\")\n",
    "log(\"hello\", [1, 2, 3])\n",
    "log (\"hello\", 1, 2, 3)"
   ]
  },
  {
   "cell_type": "code",
   "execution_count": 10,
   "metadata": {},
   "outputs": [
    {
     "name": "stdout",
     "output_type": "stream",
     "text": [
      "Values is  (1, 2, 3)\n",
      "Foo: 1,2,3\n"
     ]
    }
   ],
   "source": [
    "favs = [1, 2, 3]\n",
    "log(\"Foo\", *favs)"
   ]
  },
  {
   "cell_type": "code",
   "execution_count": 11,
   "metadata": {},
   "outputs": [
    {
     "name": "stdout",
     "output_type": "stream",
     "text": [
      "Values is  ([1, 2, 3],)\n",
      "foo: [1, 2, 3]\n"
     ]
    }
   ],
   "source": [
    "log(\"foo\", favs)"
   ]
  },
  {
   "cell_type": "markdown",
   "metadata": {},
   "source": [
    "*Item 23: Provide Optional Behavior with keyword arguments*"
   ]
  },
  {
   "cell_type": "code",
   "execution_count": 12,
   "metadata": {},
   "outputs": [
    {
     "name": "stdout",
     "output_type": "stream",
     "text": [
      "6\n"
     ]
    }
   ],
   "source": [
    "def remainder(number, divisor) : return number % divisor\n",
    "\n",
    "d = {'divisor' : 7, 'number' : 20}\n",
    "print (remainder(**d))"
   ]
  },
  {
   "cell_type": "code",
   "execution_count": 13,
   "metadata": {},
   "outputs": [
    {
     "name": "stdout",
     "output_type": "stream",
     "text": [
      "divisor -> 7\n",
      "number -> 20\n"
     ]
    }
   ],
   "source": [
    "def print_params(**kwargs) :\n",
    "    for k, v in kwargs.items() :\n",
    "        print (f\"{k} -> {v}\")\n",
    "\n",
    "print_params(**d)"
   ]
  },
  {
   "cell_type": "code",
   "execution_count": 14,
   "metadata": {},
   "outputs": [
    {
     "name": "stdout",
     "output_type": "stream",
     "text": [
      "name -> foo\n",
      "age -> 29\n"
     ]
    }
   ],
   "source": [
    "print_params(name=\"foo\", age=29)"
   ]
  },
  {
   "cell_type": "markdown",
   "metadata": {},
   "source": [
    "*Item 24 : Use None and Docstrings to Specify Dynamic Default Arguments*"
   ]
  },
  {
   "cell_type": "code",
   "execution_count": 15,
   "metadata": {},
   "outputs": [
    {
     "name": "stdout",
     "output_type": "stream",
     "text": [
      "2021-03-30 20:52:28.172127: Hello\n",
      "2021-03-30 20:52:28.172127: Dude\n"
     ]
    }
   ],
   "source": [
    "## Broken\n",
    "from time import sleep\n",
    "from datetime import datetime\n",
    "\n",
    "def log(message, when=datetime.now()) :\n",
    "    print (f\"{when}: {message}\")\n",
    "    \n",
    "log(\"Hello\")\n",
    "sleep(1)\n",
    "log(\"Dude\")"
   ]
  },
  {
   "cell_type": "code",
   "execution_count": 16,
   "metadata": {},
   "outputs": [
    {
     "name": "stdout",
     "output_type": "stream",
     "text": [
      "2021-03-30 20:54:18.865659 : Hello\n",
      "2021-03-30 20:54:19.868115 : Dude\n"
     ]
    }
   ],
   "source": [
    "## Correct\n",
    "\n",
    "from time import sleep\n",
    "from datetime import datetime\n",
    "\n",
    "def log(message, when=None) :\n",
    "    if not when :\n",
    "        when = datetime.now()\n",
    "    print (f\"{when} : {message}\")\n",
    "    \n",
    "log(\"Hello\")\n",
    "sleep(1)\n",
    "log(\"Dude\")"
   ]
  },
  {
   "cell_type": "code",
   "execution_count": 17,
   "metadata": {},
   "outputs": [
    {
     "name": "stdout",
     "output_type": "stream",
     "text": [
      "{'yo': 2, 'foo': 3} {'yo': 2, 'foo': 3}\n"
     ]
    }
   ],
   "source": [
    "## Similar problem\n",
    "\n",
    "import json\n",
    "\n",
    "def decode(data, default={}) :\n",
    "    try :\n",
    "        return json.loads(data)\n",
    "    except :\n",
    "        return default\n",
    "    \n",
    "x = decode(\"bad data\")\n",
    "x['yo'] = 2\n",
    "y = decode(\"more bad\")\n",
    "y['foo'] = 3\n",
    "\n",
    "print (x, y)"
   ]
  },
  {
   "cell_type": "code",
   "execution_count": 20,
   "metadata": {},
   "outputs": [
    {
     "name": "stdout",
     "output_type": "stream",
     "text": [
      "2021-03-30 20:58:47.374178 : Dude\n",
      "2021-03-30 20:58:48.376118 : Yo\n",
      "2021-03-30 20:58:48.376431 : Time machine\n"
     ]
    }
   ],
   "source": [
    "from typing import Optional\n",
    "\n",
    "def log_typed(message: str, when: Optional[datetime] = None) -> None :\n",
    "    if  when is None :\n",
    "        when = datetime.now()\n",
    "    print (f\"{when} : {message}\")\n",
    "    \n",
    "d = datetime.now()\n",
    "log(\"Dude\")\n",
    "sleep(1)\n",
    "log(\"Yo\")\n",
    "log(\"Time machine\")"
   ]
  },
  {
   "cell_type": "markdown",
   "metadata": {},
   "source": [
    "*Item 25 : Enforce clarity with keyword only and positional only arguments*"
   ]
  },
  {
   "cell_type": "code",
   "execution_count": 24,
   "metadata": {},
   "outputs": [
    {
     "name": "stdout",
     "output_type": "stream",
     "text": [
      "inf\n"
     ]
    }
   ],
   "source": [
    "## Python 3.8\n",
    "def safe_division(numerator, denominator, ## /, \n",
    "                    *, ignore_overflow=False, ignore_zero_division=False) :\n",
    "    try :\n",
    "        return numerator/denominator\n",
    "    except OverflowError :\n",
    "        if ignore_overflow : return 0\n",
    "        raise\n",
    "    except ZeroDivisionError :\n",
    "        if ignore_zero_division : return float('inf')\n",
    "        raise\n",
    "\n",
    "print (safe_division(5, 0, ignore_zero_division=True))"
   ]
  },
  {
   "cell_type": "markdown",
   "metadata": {},
   "source": [
    "*Item 26 : Define function decorators with functools.wraps*"
   ]
  },
  {
   "cell_type": "code",
   "execution_count": 26,
   "metadata": {},
   "outputs": [
    {
     "name": "stdout",
     "output_type": "stream",
     "text": [
      "fib((1,), {}) -> 1\n",
      "fib((0,), {}) -> 1\n",
      "fib((2,), {}) -> 2\n",
      "fib((1,), {}) -> 1\n",
      "fib((3,), {}) -> 3\n",
      "fib((1,), {}) -> 1\n",
      "fib((0,), {}) -> 1\n",
      "fib((2,), {}) -> 2\n",
      "fib((4,), {}) -> 5\n",
      "fib((1,), {}) -> 1\n",
      "fib((0,), {}) -> 1\n",
      "fib((2,), {}) -> 2\n",
      "fib((1,), {}) -> 1\n",
      "fib((3,), {}) -> 3\n",
      "fib((5,), {}) -> 8\n"
     ]
    },
    {
     "data": {
      "text/plain": [
       "8"
      ]
     },
     "execution_count": 26,
     "metadata": {},
     "output_type": "execute_result"
    }
   ],
   "source": [
    "def trace(func) :\n",
    "    def wrapper(*args, **kwargs) :\n",
    "        result = func(*args, **kwargs)\n",
    "        print (f\"{func.__name__}({args!r}, {kwargs!r}) -> {result!r}\")\n",
    "        return result\n",
    "    return wrapper\n",
    "    \n",
    "@trace\n",
    "def fib(n) :\n",
    "    if n < 2 : return 1\n",
    "    return (fib(n-1) + fib(n-2))\n",
    "\n",
    "fib(5)"
   ]
  },
  {
   "cell_type": "code",
   "execution_count": 28,
   "metadata": {},
   "outputs": [
    {
     "name": "stdout",
     "output_type": "stream",
     "text": [
      "<function trace.<locals>.wrapper at 0x7fed3a0c9290>\n"
     ]
    }
   ],
   "source": [
    "print (fib)"
   ]
  },
  {
   "cell_type": "code",
   "execution_count": 30,
   "metadata": {},
   "outputs": [
    {
     "name": "stdout",
     "output_type": "stream",
     "text": [
      "fib((1,), {}) -> 1\n",
      "fib((0,), {}) -> 1\n",
      "fib((2,), {}) -> 2\n",
      "fib((1,), {}) -> 1\n",
      "fib((3,), {}) -> 3\n",
      "fib((1,), {}) -> 1\n",
      "fib((0,), {}) -> 1\n",
      "fib((2,), {}) -> 2\n",
      "fib((4,), {}) -> 5\n",
      "fib((1,), {}) -> 1\n",
      "fib((0,), {}) -> 1\n",
      "fib((2,), {}) -> 2\n",
      "fib((1,), {}) -> 1\n",
      "fib((3,), {}) -> 3\n",
      "fib((5,), {}) -> 8\n"
     ]
    },
    {
     "data": {
      "text/plain": [
       "8"
      ]
     },
     "execution_count": 30,
     "metadata": {},
     "output_type": "execute_result"
    }
   ],
   "source": [
    "from functools import wraps\n",
    "\n",
    "def trace(func) :\n",
    "    @wraps(func)\n",
    "    def wrapper(*args, **kwargs) :\n",
    "        result = func(*args, **kwargs)\n",
    "        print (f\"{func.__name__}({args!r}, {kwargs!r}) -> {result!r}\")\n",
    "        return result\n",
    "    return wrapper\n",
    "\n",
    "@trace\n",
    "def fib(n) :\n",
    "    if (n < 2) : return 1\n",
    "    return fib(n-1) + fib(n-2)\n",
    "\n",
    "fib(5)"
   ]
  },
  {
   "cell_type": "code",
   "execution_count": 31,
   "metadata": {},
   "outputs": [
    {
     "name": "stdout",
     "output_type": "stream",
     "text": [
      "<function fib at 0x7fed3a0c9710>\n"
     ]
    }
   ],
   "source": [
    "print (fib)"
   ]
  },
  {
   "cell_type": "code",
   "execution_count": null,
   "metadata": {},
   "outputs": [],
   "source": []
  }
 ],
 "metadata": {
  "kernelspec": {
   "display_name": "Python 3",
   "language": "python",
   "name": "python3"
  },
  "language_info": {
   "codemirror_mode": {
    "name": "ipython",
    "version": 3
   },
   "file_extension": ".py",
   "mimetype": "text/x-python",
   "name": "python",
   "nbconvert_exporter": "python",
   "pygments_lexer": "ipython3",
   "version": "3.7.4"
  }
 },
 "nbformat": 4,
 "nbformat_minor": 2
}
