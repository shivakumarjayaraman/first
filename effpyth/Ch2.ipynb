{
 "cells": [
  {
   "cell_type": "markdown",
   "metadata": {},
   "source": [
    "**Lists and Dicts**\n",
    "\n",
    "*Item 11 : How to slice sequences*\n",
    "\n"
   ]
  },
  {
   "cell_type": "code",
   "execution_count": 27,
   "metadata": {},
   "outputs": [
    {
     "name": "stdout",
     "output_type": "stream",
     "text": [
      "['d', 'e']\n",
      "['b', 'c', 'd', 'e', 'f', 'g']\n",
      "reverse ['h', 'g', 'f', 'e', 'd', 'c', 'b', 'a']\n",
      "['a', 'b', 'c', 'd', 'e', 'f', 'g', 'h']\n",
      "explicit reverse ['h', 'g', 'f', 'e', 'd', 'c', 'b', 'a']\n",
      "['a', 'b', 'c']\n",
      "['f', 'g', 'h']\n",
      "['f', 'g']\n",
      "['x', 'e'] ['a', 'b', 'c', 'd', 'e', 'f', 'g', 'h']\n",
      "orig ['a', 'b', 'c', 'd', 'e', 'f', 'g', 'h']\n",
      "adding 5 entries in the place of 2 ['a', 'b', 10, 11, 12, 13, 16, 'e', 'f', 'g', 'h']\n",
      "orig  ['a', 'b', 'c', 'd', 'e', 'f', 'g', 'h']\n",
      "after copy of 2 elements into 5 spaces ['a', 'b', 9, 9, 'h']\n",
      "are they == True\n",
      "are they the same True\n"
     ]
    }
   ],
   "source": [
    "a = \"a b c d e f g h\".split()\n",
    "print (a[3:5])\n",
    "print (a[1:7])\n",
    "\n",
    "## reverse\n",
    "print (\"reverse\", a[::-1])\n",
    "\n",
    "## copy\n",
    "print (a[:])\n",
    "\n",
    "## reverse\n",
    "print (\"explicit reverse\", a[-1::-1])\n",
    "\n",
    "# first three\n",
    "print (a[:3])\n",
    "\n",
    "# last three\n",
    "print (a[-3:])\n",
    "\n",
    "print (a[-3:-1])\n",
    "\n",
    "## its a deep copy\n",
    "b = a[3:5]\n",
    "b[0] = 'x'\n",
    "print (b, a)\n",
    "\n",
    "## slice assignment\n",
    "copy = a[:]\n",
    "print (\"orig\", a)\n",
    "a[2:4] = [10, 11, 12, 13, 16]\n",
    "print (\"adding 5 entries in the place of 2\", a)\n",
    "a = copy\n",
    "print (\"orig \", a)\n",
    "a[2:7] = [9, 9]\n",
    "print (\"after copy of 2 elements into 5 spaces\", a)\n",
    "\n",
    "copy = a[:]\n",
    "print (\"are they ==\", copy == a)\n",
    "print (\"are they the same\", copy is not a)\n"
   ]
  },
  {
   "cell_type": "markdown",
   "metadata": {},
   "source": [
    "*Item 12 : Avoid Striding and Slicing in a single expression*\n"
   ]
  },
  {
   "cell_type": "code",
   "execution_count": 31,
   "metadata": {},
   "outputs": [
    {
     "name": "stdout",
     "output_type": "stream",
     "text": [
      "orig ['red', 'orange', 'yellow', 'green', 'blue', 'purple']\n",
      "odds ['red', 'yellow', 'blue']\n",
      "evens ['orange', 'green', 'purple']\n",
      "esoognam\n"
     ]
    }
   ],
   "source": [
    "x = \"red orange yellow green blue purple\".split()\n",
    "odds = x[::2]\n",
    "evens= x[1::2]\n",
    "print (\"orig\", x)\n",
    "print (\"odds\", odds)\n",
    "print (\"evens\", evens)\n",
    "\n",
    "m = b'mangoose'\n",
    "print (m[::-1])\n",
    "\n",
    "## should be careful with strings, since reversing unicode can screw sequences up. "
   ]
  },
  {
   "cell_type": "code",
   "execution_count": 36,
   "metadata": {},
   "outputs": [],
   "source": [
    "## palindrome\n",
    "\n",
    "def isPal(s) :\n",
    "    return (len(s) == 1) or ((s[0] == s[-1]) and isPal(s[1:-1]))"
   ]
  },
  {
   "cell_type": "code",
   "execution_count": 37,
   "metadata": {},
   "outputs": [
    {
     "name": "stdout",
     "output_type": "stream",
     "text": [
      "False\n",
      "True\n",
      "True\n"
     ]
    }
   ],
   "source": [
    "print (isPal(\"hello\"))\n",
    "print (isPal(\"x\"))\n",
    "print (isPal(\"malayalam\"))"
   ]
  },
  {
   "cell_type": "markdown",
   "metadata": {},
   "source": [
    "*Item 13 : Prefer catch-all unpacking over slicing*\n"
   ]
  },
  {
   "cell_type": "code",
   "execution_count": 44,
   "metadata": {},
   "outputs": [
    {
     "name": "stdout",
     "output_type": "stream",
     "text": [
      "20 19 [15, 9, 8, 7, 6, 4, 1, 0] [19, 15, 9, 8, 7, 6, 4, 1] 0\n"
     ]
    }
   ],
   "source": [
    "car_ages = [0, 9, 4, 8, 7, 20, 19, 1, 6, 15]\n",
    "ca_desc = sorted(car_ages, reverse=True)\n",
    "oldest, sec_oldest = ca_desc[:2]\n",
    "oldest, sec_oldest, *others = ca_desc\n",
    "oldest, *middle, youngest = ca_desc\n",
    "print (oldest, sec_oldest, others, middle, youngest)"
   ]
  },
  {
   "cell_type": "code",
   "execution_count": 46,
   "metadata": {},
   "outputs": [
    {
     "name": "stdout",
     "output_type": "stream",
     "text": [
      "1 [] 2\n"
     ]
    }
   ],
   "source": [
    "a = [1, 2]\n",
    "small, *m, large = a\n",
    "print (small, m, large)"
   ]
  },
  {
   "cell_type": "markdown",
   "metadata": {},
   "source": [
    "*Item 14 : Sort by complex criteria using the key parameter*\n"
   ]
  },
  {
   "cell_type": "code",
   "execution_count": 57,
   "metadata": {},
   "outputs": [
    {
     "name": "stdout",
     "output_type": "stream",
     "text": [
      "[Tool(level, 3.5), Tool(hammer, 1.25), Tool(screwdriver, 0.5), Tool(drill, 1.5), Tool(sander, 1.5), Tool(chisel, 0.25)]\n"
     ]
    }
   ],
   "source": [
    "class Tool :\n",
    "    def __init__(self, name, weight) :\n",
    "        self.name = name\n",
    "        self.weight = weight\n",
    "    def __repr__(self) :\n",
    "        return f\"Tool({self.name}, {self.weight})\"\n",
    "    \n",
    "tools = [\n",
    "    Tool('level', 3.5),\n",
    "    Tool('hammer', 1.25),\n",
    "    Tool('screwdriver', 0.5),\n",
    "    Tool('drill', 1.5),\n",
    "    Tool('sander', 1.5),\n",
    "    Tool('chisel', 0.25)\n",
    "]\n",
    "\n",
    "print (tools)"
   ]
  },
  {
   "cell_type": "code",
   "execution_count": 58,
   "metadata": {},
   "outputs": [
    {
     "name": "stdout",
     "output_type": "stream",
     "text": [
      "[Tool(chisel, 0.25), Tool(drill, 1.5), Tool(hammer, 1.25), Tool(level, 3.5), Tool(sander, 1.5), Tool(screwdriver, 0.5)]\n"
     ]
    }
   ],
   "source": [
    "print (sorted(tools, key=lambda x : x.name))\n"
   ]
  },
  {
   "cell_type": "code",
   "execution_count": 59,
   "metadata": {},
   "outputs": [
    {
     "name": "stdout",
     "output_type": "stream",
     "text": [
      "[Tool(chisel, 0.25), Tool(screwdriver, 0.5), Tool(hammer, 1.25), Tool(drill, 1.5), Tool(sander, 1.5), Tool(level, 3.5)]\n"
     ]
    }
   ],
   "source": [
    "print (sorted(tools, key=lambda x : x.weight))"
   ]
  },
  {
   "cell_type": "code",
   "execution_count": 64,
   "metadata": {},
   "outputs": [
    {
     "name": "stdout",
     "output_type": "stream",
     "text": [
      "[Tool(chisel, 0.25), Tool(screwdriver, 0.5), Tool(hammer, 1.25), Tool(drill, 1.5), Tool(sander, 1.5), Tool(level, 3.5)]\n",
      "[Tool(chisel, 0.25), Tool(drill, 1.5), Tool(hammer, 1.25), Tool(level, 3.5), Tool(sander, 1.5), Tool(screwdriver, 0.5)]\n"
     ]
    }
   ],
   "source": [
    "## To sort on multiple criteria, return a tuple\n",
    "\n",
    "print (sorted(tools, key=lambda x : (x.weight, x.name)))\n",
    "print (sorted(tools, key=lambda x : (x.name, x.weight)))"
   ]
  },
  {
   "cell_type": "code",
   "execution_count": null,
   "metadata": {},
   "outputs": [],
   "source": []
  },
  {
   "cell_type": "code",
   "execution_count": null,
   "metadata": {},
   "outputs": [],
   "source": []
  }
 ],
 "metadata": {
  "kernelspec": {
   "display_name": "Python 3",
   "language": "python",
   "name": "python3"
  },
  "language_info": {
   "codemirror_mode": {
    "name": "ipython",
    "version": 3
   },
   "file_extension": ".py",
   "mimetype": "text/x-python",
   "name": "python",
   "nbconvert_exporter": "python",
   "pygments_lexer": "ipython3",
   "version": "3.7.4"
  }
 },
 "nbformat": 4,
 "nbformat_minor": 2
}
