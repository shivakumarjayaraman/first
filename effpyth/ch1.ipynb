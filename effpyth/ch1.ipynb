{
 "cells": [
  {
   "cell_type": "markdown",
   "metadata": {},
   "source": [
    "**Item 8 : Use Zip**\n"
   ]
  },
  {
   "cell_type": "code",
   "execution_count": 1,
   "metadata": {},
   "outputs": [
    {
     "name": "stdout",
     "output_type": "stream",
     "text": [
      "cecilia 7\n"
     ]
    }
   ],
   "source": [
    "names = ['cecilia', 'lise', 'marie']\n",
    "counts = [len(n) for n in names]\n",
    "\n",
    "maxlen = 0\n",
    "for name, l in zip(names, counts) :\n",
    "    if (l > maxlen) :\n",
    "        longest = name\n",
    "        maxlen = l\n",
    "print (longest, maxlen)"
   ]
  },
  {
   "cell_type": "code",
   "execution_count": 2,
   "metadata": {},
   "outputs": [
    {
     "data": {
      "text/plain": [
       "('cecilia', 7)"
      ]
     },
     "execution_count": 2,
     "metadata": {},
     "output_type": "execute_result"
    }
   ],
   "source": [
    "max(((n, l) for n, l in zip(names, counts)), key=lambda x: x[1])\n",
    "\n"
   ]
  },
  {
   "cell_type": "markdown",
   "metadata": {},
   "source": [
    "Zip only zips until any one of its arguments runs out .. To keep zipping use zip_longest from itertools\n"
   ]
  },
  {
   "cell_type": "code",
   "execution_count": 3,
   "metadata": {},
   "outputs": [
    {
     "name": "stdout",
     "output_type": "stream",
     "text": [
      "cecilia 7\n",
      "lise 4\n",
      "marie 5\n"
     ]
    }
   ],
   "source": [
    "names.append('Rosalind')\n",
    "\n",
    "for n, l in zip(names, counts) :\n",
    "    print (n, l)\n"
   ]
  },
  {
   "cell_type": "code",
   "execution_count": 9,
   "metadata": {},
   "outputs": [
    {
     "name": "stdout",
     "output_type": "stream",
     "text": [
      "cecilia 7\n",
      "lise 4\n",
      "marie 5\n",
      "Rosalind None\n"
     ]
    }
   ],
   "source": [
    "import itertools\n",
    "for n, l in itertools.zip_longest(names, counts) :\n",
    "    print (n, l)"
   ]
  },
  {
   "cell_type": "markdown",
   "metadata": {},
   "source": [
    "**Item 8 : Avoid else blocks after for and while loops**\n"
   ]
  },
  {
   "cell_type": "markdown",
   "metadata": {},
   "source": [
    "else blocks execute if the for loop completes (no breaks)"
   ]
  },
  {
   "cell_type": "code",
   "execution_count": 10,
   "metadata": {},
   "outputs": [
    {
     "name": "stdout",
     "output_type": "stream",
     "text": [
      "cecilia\n",
      "lise\n",
      "marie\n",
      "Rosalind\n",
      "done\n"
     ]
    }
   ],
   "source": [
    "for n in names :\n",
    "    print (n)\n",
    "else :\n",
    "    print (\"**done**\")"
   ]
  },
  {
   "cell_type": "code",
   "execution_count": 12,
   "metadata": {},
   "outputs": [
    {
     "name": "stdout",
     "output_type": "stream",
     "text": [
      "7\n",
      "4\n",
      "ENDING\n"
     ]
    }
   ],
   "source": [
    "for l in counts :\n",
    "    print (l)\n",
    "    if (l == 4) : break\n",
    "else :\n",
    "    print (\"Done\")\n",
    "print (\"ENDING\")"
   ]
  },
  {
   "cell_type": "markdown",
   "metadata": {},
   "source": [
    "**Item 9 : Prevent repetition with assignment expressions**\n",
    "\n",
    "Walrus operator :=  This is a 3.8 feature .. Wont work on versions < 3.8"
   ]
  },
  {
   "cell_type": "code",
   "execution_count": 13,
   "metadata": {},
   "outputs": [],
   "source": [
    "fresh_fruit = {\n",
    "    'apple' : 10,\n",
    "    'banana' : 8,\n",
    "    'lemon' : 5\n",
    "}"
   ]
  },
  {
   "cell_type": "code",
   "execution_count": 14,
   "metadata": {},
   "outputs": [
    {
     "ename": "SyntaxError",
     "evalue": "invalid syntax (<ipython-input-14-bfa5b6fe04c8>, line 1)",
     "output_type": "error",
     "traceback": [
      "\u001b[0;36m  File \u001b[0;32m\"<ipython-input-14-bfa5b6fe04c8>\"\u001b[0;36m, line \u001b[0;32m1\u001b[0m\n\u001b[0;31m    if count := fresh_fruit.get('lemon', 0) :\u001b[0m\n\u001b[0m              ^\u001b[0m\n\u001b[0;31mSyntaxError\u001b[0m\u001b[0;31m:\u001b[0m invalid syntax\n"
     ]
    }
   ],
   "source": [
    "if count := fresh_fruit.get('lemon', 0) :\n",
    "    print (\"Making lemonade\")\n",
    "else :\n",
    "    print (\"Out of stock\")"
   ]
  },
  {
   "cell_type": "code",
   "execution_count": null,
   "metadata": {},
   "outputs": [],
   "source": []
  },
  {
   "cell_type": "code",
   "execution_count": null,
   "metadata": {},
   "outputs": [],
   "source": []
  }
 ],
 "metadata": {
  "kernelspec": {
   "display_name": "Python 3",
   "language": "python",
   "name": "python3"
  },
  "language_info": {
   "codemirror_mode": {
    "name": "ipython",
    "version": 3
   },
   "file_extension": ".py",
   "mimetype": "text/x-python",
   "name": "python",
   "nbconvert_exporter": "python",
   "pygments_lexer": "ipython3",
   "version": "3.7.4"
  }
 },
 "nbformat": 4,
 "nbformat_minor": 2
}
