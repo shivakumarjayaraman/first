{
 "cells": [
  {
   "cell_type": "markdown",
   "metadata": {},
   "source": [
    "Ch3 : Built in datastructures, Functions and Files"
   ]
  },
  {
   "cell_type": "code",
   "execution_count": 2,
   "metadata": {},
   "outputs": [
    {
     "name": "stdout",
     "output_type": "stream",
     "text": [
      "['/Users/shivjaya/Code/pyth/pyth4da']\n"
     ]
    }
   ],
   "source": [
    "\n",
    "\n",
    "\n",
    "d = !pwd\n",
    "print (d)"
   ]
  },
  {
   "cell_type": "code",
   "execution_count": 3,
   "metadata": {},
   "outputs": [
    {
     "data": {
      "text/plain": [
       "[<matplotlib.lines.Line2D at 0x7f8e40a88f90>]"
      ]
     },
     "execution_count": 3,
     "metadata": {},
     "output_type": "execute_result"
    },
    {
     "data": {
      "image/png": "[encoded data removed]",
      "text/plain": [
       "<Figure size 432x288 with 1 Axes>"
      ]
     },
     "metadata": {
      "needs_background": "light"
     },
     "output_type": "display_data"
    }
   ],
   "source": [
    "%matplotlib inline\n",
    "import matplotlib.pyplot as plt\n",
    "import numpy as np\n",
    "\n",
    "plt.plot(np.random.randn(50).cumsum())"
   ]
  },
  {
   "cell_type": "code",
   "execution_count": 4,
   "metadata": {},
   "outputs": [
    {
     "name": "stdout",
     "output_type": "stream",
     "text": [
      "<class 'tuple'>\n",
      "(3, 4, 5)\n"
     ]
    }
   ],
   "source": [
    "## tuples .. more than one rhs\n",
    "tup = 3, 4, 5\n",
    "print (type(tup))\n",
    "print (tup)"
   ]
  },
  {
   "cell_type": "code",
   "execution_count": 6,
   "metadata": {},
   "outputs": [
    {
     "name": "stdout",
     "output_type": "stream",
     "text": [
      "((1, 2, 3), (4, 5, 6))\n",
      "<class 'tuple'>\n"
     ]
    }
   ],
   "source": [
    "## nested tuples\n",
    "tup = (1, 2, 3), (4, 5, 6)\n",
    "print (tup)\n",
    "print (type(tup))"
   ]
  },
  {
   "cell_type": "code",
   "execution_count": 7,
   "metadata": {},
   "outputs": [
    {
     "name": "stdout",
     "output_type": "stream",
     "text": [
      "('s', 't', 'r', 'i', 'n', 'g')\n"
     ]
    }
   ],
   "source": [
    "s = tuple('string')\n",
    "print (s)"
   ]
  },
  {
   "cell_type": "code",
   "execution_count": 9,
   "metadata": {},
   "outputs": [
    {
     "name": "stdout",
     "output_type": "stream",
     "text": [
      "['I']\n",
      "['a', 'm']\n",
      "['t', 'h', 'e']\n",
      "['t', 'e', 'm', 'p', 'l', 'e']\n",
      "['o', 'f']\n",
      "['t', 'h', 'e']\n",
      "['l', 'i', 'v', 'i', 'n', 'g']\n",
      "['g', 'o', 'd']\n"
     ]
    }
   ],
   "source": [
    "p = \"I am the temple of the living god\".split()\n",
    "\n",
    "for s in p :\n",
    "    chars = tuple(s)\n",
    "    print (list(chars))\n"
   ]
  },
  {
   "cell_type": "code",
   "execution_count": 12,
   "metadata": {},
   "outputs": [
    {
     "name": "stdout",
     "output_type": "stream",
     "text": [
      "('h', 'e', 'l', 'l', 'o', 'h', 'e', 'l', 'l', 'o')\n"
     ]
    }
   ],
   "source": [
    "s = tuple(\"hello\")\n",
    "print (s * 2)\n"
   ]
  },
  {
   "cell_type": "code",
   "execution_count": 13,
   "metadata": {},
   "outputs": [
    {
     "name": "stdout",
     "output_type": "stream",
     "text": [
      "h o ['e', 'l', 'l']\n"
     ]
    }
   ],
   "source": [
    "## Tuple unpacking \n",
    "\n",
    "s = tuple(\"hello\")\n",
    "first, *mid, last = s\n",
    "print (first, last, mid)"
   ]
  },
  {
   "cell_type": "code",
   "execution_count": 19,
   "metadata": {},
   "outputs": [
    {
     "name": "stdout",
     "output_type": "stream",
     "text": [
      "<class 'range'> <class 'list'>\n",
      "[9, 1, 2, 3, 4, 5, 6, 7, 8, 0]\n"
     ]
    }
   ],
   "source": [
    "r = range(10)\n",
    "l = list(r)\n",
    "print (type(r), type(l))\n",
    "l[0], l[-1] = l[-1], l[0]\n",
    "print (l)"
   ]
  },
  {
   "cell_type": "code",
   "execution_count": 20,
   "metadata": {},
   "outputs": [
    {
     "name": "stdout",
     "output_type": "stream",
     "text": [
      "[9, 1, 2, 3, 4, 5, 6, 7, 8, 0, ['h', 'e', 'l', 'l', 'o'], 'h', 'e', 'l', 'l', 'o']\n"
     ]
    }
   ],
   "source": [
    "l.append(list(tuple(\"hello\")))\n",
    "l.extend(list(tuple('hello')))\n",
    "print (l)"
   ]
  },
  {
   "cell_type": "code",
   "execution_count": null,
   "metadata": {},
   "outputs": [],
   "source": []
  },
  {
   "cell_type": "code",
   "execution_count": 33,
   "metadata": {},
   "outputs": [
    {
     "name": "stdout",
     "output_type": "stream",
     "text": [
      "['e', 'h', 'l', 'l', 'o']\n",
      "2\n",
      "5\n",
      "0\n"
     ]
    }
   ],
   "source": [
    "l = list(tuple('hello'))\n",
    "l.sort()\n",
    "print (l)\n",
    "import bisect\n",
    "print (bisect.bisect(l, 'h'))\n",
    "print (bisect.bisect(l, 'x'))\n",
    "print (bisect.bisect(l, 'a'))"
   ]
  },
  {
   "cell_type": "code",
   "execution_count": 34,
   "metadata": {},
   "outputs": [
    {
     "data": {
      "text/plain": [
       "['e', 'h', 'l', 'l', 'o']"
      ]
     },
     "execution_count": 34,
     "metadata": {},
     "output_type": "execute_result"
    }
   ],
   "source": [
    "l"
   ]
  },
  {
   "cell_type": "code",
   "execution_count": 35,
   "metadata": {},
   "outputs": [
    {
     "name": "stdout",
     "output_type": "stream",
     "text": [
      "['e', 'h', 5, 8, 9, 'o']\n"
     ]
    }
   ],
   "source": [
    "l[2:4] = [5, 8, 9]\n",
    "print (l)"
   ]
  },
  {
   "cell_type": "code",
   "execution_count": 36,
   "metadata": {},
   "outputs": [],
   "source": [
    "l[2:4] = [15]\n"
   ]
  },
  {
   "cell_type": "code",
   "execution_count": 37,
   "metadata": {},
   "outputs": [
    {
     "name": "stdout",
     "output_type": "stream",
     "text": [
      "['e', 'h', 15, 9, 'o']\n"
     ]
    }
   ],
   "source": [
    "print (l)"
   ]
  },
  {
   "cell_type": "code",
   "execution_count": 39,
   "metadata": {},
   "outputs": [
    {
     "name": "stdout",
     "output_type": "stream",
     "text": [
      "['o', 9, 15, 'h', 'e']\n"
     ]
    }
   ],
   "source": [
    "print (l[::-1])"
   ]
  },
  {
   "cell_type": "code",
   "execution_count": 40,
   "metadata": {},
   "outputs": [
    {
     "name": "stdout",
     "output_type": "stream",
     "text": [
      "0 s\n",
      "1 h\n",
      "2 i\n",
      "3 v\n",
      "4 a\n"
     ]
    }
   ],
   "source": [
    "## Built in sequence functions\n",
    "\n",
    "for i, c in enumerate(tuple(\"shiva\")) :\n",
    "    print (i, c)"
   ]
  },
  {
   "cell_type": "code",
   "execution_count": 48,
   "metadata": {},
   "outputs": [
    {
     "name": "stdout",
     "output_type": "stream",
     "text": [
      "['a', 'v', 'i', 'h', 's']\n",
      "['a', 'v', 'i', 'h', 's']\n"
     ]
    }
   ],
   "source": [
    "print (list(reversed(tuple('shiva'))))\n",
    "\n",
    "print (list(reversed(\"shiva\")))"
   ]
  },
  {
   "cell_type": "code",
   "execution_count": 54,
   "metadata": {},
   "outputs": [
    {
     "data": {
      "text/plain": [
       "{'s': 1, 'h': 2, 'i': 3, 'v': 4, 'a': 6}"
      ]
     },
     "execution_count": 54,
     "metadata": {},
     "output_type": "execute_result"
    }
   ],
   "source": [
    "d = {v : k for k, v in enumerate(\"shivaa\", 1)}\n",
    "d"
   ]
  },
  {
   "cell_type": "code",
   "execution_count": 57,
   "metadata": {},
   "outputs": [
    {
     "name": "stdout",
     "output_type": "stream",
     "text": [
      "Counter({'the': 2, 'I': 1, 'am': 1, 'temple': 1, 'of': 1, 'living': 1, 'god': 1}) defaultdict(<class 'int'>, {'I': 1, 'am': 1, 'the': 2, 'temple': 1, 'of': 1, 'living': 1, 'god': 1})\n"
     ]
    }
   ],
   "source": [
    "from collections import Counter, defaultdict\n",
    "\n",
    "c = Counter(\"I am the temple of the living god\".split())\n",
    "d = defaultdict(int)\n",
    "for w in \"I am the temple of the living god\".split() :\n",
    "    d[w] += 1\n",
    "print (c, d)"
   ]
  },
  {
   "cell_type": "code",
   "execution_count": 63,
   "metadata": {},
   "outputs": [
    {
     "data": {
      "text/plain": [
       "2528502973977326415"
      ]
     },
     "execution_count": 63,
     "metadata": {},
     "output_type": "execute_result"
    }
   ],
   "source": [
    "hash((1, 2))\n",
    "hash((1, 2, (3)))"
   ]
  },
  {
   "cell_type": "code",
   "execution_count": 69,
   "metadata": {},
   "outputs": [
    {
     "name": "stdout",
     "output_type": "stream",
     "text": [
      "**** Alabama\n",
      "**** Georgia!\n",
      "**** FlOriDA\n",
      "**** south Carolina##\n",
      "**** West Virginia?\n",
      "['Alabama', 'Georgia', 'Florida', 'South Carolina', 'West Virginia']\n"
     ]
    }
   ],
   "source": [
    "states = ['   Alabama ', 'Georgia!', 'FlOriDA', 'south Carolina##', 'West Virginia?']\n",
    "import re\n",
    "def punct_rem(s) :\n",
    "    print (\"****\", s)\n",
    "    return re.sub('[!?#]', '', s)\n",
    "funcs = [str.strip, punct_rem, str.title]\n",
    "\n",
    "vals = []\n",
    "for s in states :\n",
    "    v = s\n",
    "    for f in funcs :\n",
    "        v = f(v)\n",
    "    vals.append(v)\n",
    "print (vals)\n"
   ]
  },
  {
   "cell_type": "code",
   "execution_count": 66,
   "metadata": {},
   "outputs": [
    {
     "data": {
      "text/plain": [
       "'Hello'"
      ]
     },
     "execution_count": 66,
     "metadata": {},
     "output_type": "execute_result"
    }
   ],
   "source": [
    "punct_rem(\"Hello#?\")"
   ]
  },
  {
   "cell_type": "code",
   "execution_count": 70,
   "metadata": {},
   "outputs": [
    {
     "name": "stdout",
     "output_type": "stream",
     "text": [
      "['s', 'h', 'i', 'v', 'a']\n"
     ]
    }
   ],
   "source": [
    "print (list(\"shiva\"))"
   ]
  },
  {
   "cell_type": "code",
   "execution_count": 74,
   "metadata": {},
   "outputs": [
    {
     "data": {
      "text/plain": [
       "13"
      ]
     },
     "execution_count": 74,
     "metadata": {},
     "output_type": "execute_result"
    }
   ],
   "source": [
    "def addn(x, y) : return x + y\n",
    "\n",
    "add5 = lambda y : addn(5, y) \n",
    "from functools import partial\n",
    "addp = partial(addn, 5) \n",
    "\n",
    "addp(8)\n"
   ]
  },
  {
   "cell_type": "code",
   "execution_count": 80,
   "metadata": {},
   "outputs": [
    {
     "name": "stdout",
     "output_type": "stream",
     "text": [
      "5 ['shiva', 'priya']\n",
      "6 ['shruti', 'janaki']\n",
      "9 ['jayaraman']\n"
     ]
    }
   ],
   "source": [
    "from itertools import groupby\n",
    "\n",
    "names = ['shiva', 'priya', 'shruti', 'janaki', 'jayaraman']\n",
    "gb = groupby(names, len)\n",
    "for k, v in gb :\n",
    "    print (k, list(v))"
   ]
  },
  {
   "cell_type": "code",
   "execution_count": 6,
   "metadata": {},
   "outputs": [
    {
     "name": "stdout",
     "output_type": "stream",
     "text": [
      "{\n",
      "\n",
      " \"cells\": [\n",
      "\n",
      "  {\n",
      "\n",
      "   \"cell_type\": \"markdown\",\n",
      "\n",
      "   \"metadata\": {},\n",
      "\n",
      "   \"source\": [\n",
      "\n"
     ]
    }
   ],
   "source": [
    "## Errors and Exception handling\n",
    "\n",
    "## Files and the Operating system\n",
    "\n",
    "with open(\"Ch3.ipynb\", \"rt\") as f :\n",
    "    for i, j in enumerate(f) :\n",
    "        print (j)\n",
    "        if i == 5 : break\n",
    "            \n",
    "            "
   ]
  },
  {
   "cell_type": "code",
   "execution_count": 10,
   "metadata": {},
   "outputs": [
    {
     "name": "stdout",
     "output_type": "stream",
     "text": [
      "{\n",
      " \"cells\": [\n",
      "  {\n",
      "   \"cell_type\": \"markd\n",
      "e\": \"markd\n",
      "40\n"
     ]
    }
   ],
   "source": [
    "with open(\"Ch3.ipynb\", \"rt\") as f :\n",
    "    print (f.read(40))\n",
    "    f.seek(30)\n",
    "    print (f.read(10))\n",
    "    \n",
    "    print (f.tell())\n",
    "    "
   ]
  },
  {
   "cell_type": "code",
   "execution_count": null,
   "metadata": {},
   "outputs": [],
   "source": []
  }
 ],
 "metadata": {
  "kernelspec": {
   "display_name": "Python 3",
   "language": "python",
   "name": "python3"
  },
  "language_info": {
   "codemirror_mode": {
    "name": "ipython",
    "version": 3
   },
   "file_extension": ".py",
   "mimetype": "text/x-python",
   "name": "python",
   "nbconvert_exporter": "python",
   "pygments_lexer": "ipython3",
   "version": "3.7.4"
  }
 },
 "nbformat": 4,
 "nbformat_minor": 2
}
