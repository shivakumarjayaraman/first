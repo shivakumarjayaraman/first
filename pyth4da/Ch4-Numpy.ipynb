{
 "cells": [
  {
   "cell_type": "code",
   "execution_count": 1,
   "metadata": {},
   "outputs": [],
   "source": [
    "## Numpy and regular array performance comparison\n",
    "\n",
    "import numpy as np\n",
    "\n",
    "my_arr = np.arange(1000000)\n",
    "my_list = list(range(1000000))\n",
    "assert(len(my_arr) == len(my_list))\n",
    "\n"
   ]
  },
  {
   "cell_type": "code",
   "execution_count": 2,
   "metadata": {},
   "outputs": [
    {
     "name": "stdout",
     "output_type": "stream",
     "text": [
      "CPU times: user 6 µs, sys: 1e+03 ns, total: 7 µs\n",
      "Wall time: 5.01 µs\n",
      "999999.0\n"
     ]
    }
   ],
   "source": [
    "%time\n",
    "for _ in range(10) :  my_arr2 = my_arr * 2\n",
    "print (my_arr2[-1]/2)"
   ]
  },
  {
   "cell_type": "code",
   "execution_count": 3,
   "metadata": {},
   "outputs": [
    {
     "name": "stdout",
     "output_type": "stream",
     "text": [
      "CPU times: user 6 µs, sys: 0 ns, total: 6 µs\n",
      "Wall time: 5.25 µs\n",
      "999999.0\n"
     ]
    }
   ],
   "source": [
    "%time\n",
    "for _ in range(10) : my_list2 = [x*2 for x in my_list]\n",
    "print (my_list2[-1]/2)"
   ]
  },
  {
   "cell_type": "code",
   "execution_count": 4,
   "metadata": {},
   "outputs": [
    {
     "name": "stdout",
     "output_type": "stream",
     "text": [
      "[[-2.19443965  0.33674754 -0.82986312]\n",
      " [ 1.50517926 -0.13658299  0.87382965]]\n",
      "[[-21.94439654   3.36747544  -8.2986312 ]\n",
      " [ 15.05179265  -1.36582993   8.73829647]]\n",
      "[[-4.38887931  0.67349509 -1.65972624]\n",
      " [ 3.01035853 -0.27316599  1.74765929]]\n",
      "(2, 3) float64\n"
     ]
    }
   ],
   "source": [
    "data = np.random.randn(2, 3)\n",
    "data\n",
    "print (data)\n",
    "print (data * 10)\n",
    "print (data + data)\n",
    "print (data.shape, data.dtype)"
   ]
  },
  {
   "cell_type": "code",
   "execution_count": 5,
   "metadata": {},
   "outputs": [
    {
     "name": "stdout",
     "output_type": "stream",
     "text": [
      "[6.  7.5 8.  0.  1. ]\n",
      "[[1 2 3 4]\n",
      " [5 6 7 8]]\n",
      "(2, 4) 2 (5,) 1\n",
      "int64 float64\n",
      "[[4.9e-324 9.9e-324 1.5e-323 2.0e-323]\n",
      " [2.5e-323 3.0e-323 3.5e-323 4.0e-323]]\n"
     ]
    }
   ],
   "source": [
    "## creating ndarrays\n",
    "data1 = [6, 7.5, 8, 0, 1]\n",
    "arr1 = np.array(data1)\n",
    "print (arr1)\n",
    "arr2 = np.array([[1, 2, 3, 4], [5, 6, 7, 8]])\n",
    "print (arr2)\n",
    "\n",
    "print (arr2.shape, arr2.ndim, arr1.shape, arr1.ndim)\n",
    "print(arr2.dtype, arr1.dtype)\n",
    "arr2.dtype = arr1.dtype\n",
    "print (arr2)"
   ]
  },
  {
   "cell_type": "code",
   "execution_count": 6,
   "metadata": {},
   "outputs": [
    {
     "name": "stdout",
     "output_type": "stream",
     "text": [
      "[0. 0. 0. 0. 0.]\n",
      "------\n",
      "[[0. 0. 0. 0.]\n",
      " [0. 0. 0. 0.]\n",
      " [0. 0. 0. 0.]]\n",
      "------\n",
      "[[[0. 0.]\n",
      "  [0. 0.]\n",
      "  [0. 0.]]\n",
      "\n",
      " [[0. 0.]\n",
      "  [0. 0.]\n",
      "  [0. 0.]]]\n",
      "(2, 3, 2) (3, 2)\n",
      "[[0. 0.]\n",
      " [0. 0.]\n",
      " [0. 0.]]\n"
     ]
    }
   ],
   "source": [
    "print (np.zeros(5))\n",
    "print (\"------\")\n",
    "print (np.zeros((3, 4)))\n",
    "print (\"------\")\n",
    "emp = np.empty((2, 3, 2))\n",
    "print (emp)\n",
    "print (emp.shape, emp[0].shape)\n",
    "print (emp[0])"
   ]
  },
  {
   "cell_type": "code",
   "execution_count": 7,
   "metadata": {},
   "outputs": [
    {
     "name": "stdout",
     "output_type": "stream",
     "text": [
      "[[ 0  1  2  3]\n",
      " [ 4  5  6  7]\n",
      " [ 8  9 10 11]\n",
      " [12 13 14 15]\n",
      " [16 17 18 19]]\n",
      "[[[ 0  1]\n",
      "  [ 2  3]]\n",
      "\n",
      " [[ 4  5]\n",
      "  [ 6  7]]\n",
      "\n",
      " [[ 8  9]\n",
      "  [10 11]]\n",
      "\n",
      " [[12 13]\n",
      "  [14 15]]\n",
      "\n",
      " [[16 17]\n",
      "  [18 19]]]\n",
      "3 (5, 2, 2)\n"
     ]
    }
   ],
   "source": [
    "a = np.arange(20).reshape(5, 4)\n",
    "print (a)\n",
    "a.resize(5, 2, 2)\n",
    "print (a)\n",
    "print(a.ndim, a.shape)"
   ]
  },
  {
   "cell_type": "code",
   "execution_count": 8,
   "metadata": {},
   "outputs": [
    {
     "name": "stdout",
     "output_type": "stream",
     "text": [
      "[0 1 2 3 4]\n",
      "[0.0e+000 4.9e-324 9.9e-324 1.5e-323 2.0e-323]\n",
      "[1.2 3.4 5.6] float64\n",
      "[4608083138725491507 4614838538166547251 4617991057905706598]\n",
      "float64 [1.2 3.4 5.9]\n",
      "int32 [1 3 5]\n",
      "int64 [0 1 2 3 4]\n",
      "float64 [0. 1. 2. 3. 4.]\n"
     ]
    }
   ],
   "source": [
    "a = np.arange(5)\n",
    "print (a)\n",
    "\n",
    "## not the right way\n",
    "a.dtype = np.float64\n",
    "print (a)\n",
    "a = np.array([1.2, 3.4, 5.6])\n",
    "print (a, a.dtype)\n",
    "\n",
    "a.dtype=np.int64\n",
    "print (a)\n",
    "\n",
    "## casts\n",
    "a = np.array([1.2, 3.4, 5.9])\n",
    "print (a.dtype, a)\n",
    "print (\"int32\", a.astype(np.int32))\n",
    "\n",
    "a = np.arange(5)\n",
    "print (a.dtype, a)\n",
    "a = a.astype(np.float64)\n",
    "print (a.dtype, a)\n"
   ]
  },
  {
   "cell_type": "code",
   "execution_count": 9,
   "metadata": {},
   "outputs": [
    {
     "data": {
      "text/plain": [
       "array([[1., 2., 3.],\n",
       "       [4., 5., 6.]])"
      ]
     },
     "execution_count": 9,
     "metadata": {},
     "output_type": "execute_result"
    }
   ],
   "source": [
    "## Arithmetic with np arrays\n",
    "import numpy as np\n",
    "a = np.array([[1, 2, 3], [4, 5, 6]], dtype=np.float64)\n",
    "a"
   ]
  },
  {
   "cell_type": "code",
   "execution_count": 10,
   "metadata": {},
   "outputs": [
    {
     "data": {
      "text/plain": [
       "array([[1.        , 1.41421356, 1.73205081],\n",
       "       [2.        , 2.23606798, 2.44948974]])"
      ]
     },
     "execution_count": 10,
     "metadata": {},
     "output_type": "execute_result"
    }
   ],
   "source": [
    "a*a\n",
    "a-a\n",
    "1/a\n",
    "a**0.5"
   ]
  },
  {
   "cell_type": "code",
   "execution_count": 11,
   "metadata": {},
   "outputs": [
    {
     "name": "stdout",
     "output_type": "stream",
     "text": [
      "[[False  True False]\n",
      " [ True False  True]]\n",
      "[[ True False  True]\n",
      " [False  True False]]\n"
     ]
    }
   ],
   "source": [
    "a2 = np.array([[0, 4, 1], [7, 2, 12]], dtype=np.float64)\n",
    "print (a2 > a)\n",
    "print (a>a2)\n",
    "\n"
   ]
  },
  {
   "cell_type": "code",
   "execution_count": 12,
   "metadata": {},
   "outputs": [
    {
     "name": "stdout",
     "output_type": "stream",
     "text": [
      "[ 0  1  2  3  4 12 12 12  8  9]\n",
      "[12 12 12]\n",
      "[ 0  1  2  3  4 12 99 12  8  9]\n",
      "[12 99 12]\n"
     ]
    }
   ],
   "source": [
    "## Basic indexing and slicing\n",
    "\n",
    "a = np.arange(10)\n",
    "a[5]\n",
    "a[5:8]\n",
    "a[5:8] = 12\n",
    "print (a)\n",
    "print (a[5:8])\n",
    "b = a[5:8]\n",
    "b[1] = 99\n",
    "print (a)\n",
    "print (b)"
   ]
  },
  {
   "cell_type": "code",
   "execution_count": 13,
   "metadata": {},
   "outputs": [
    {
     "name": "stdout",
     "output_type": "stream",
     "text": [
      "[22  1  2  3  4  5  6  7  8]\n"
     ]
    }
   ],
   "source": [
    "a = np.arange(9)\n",
    "b = a[:]\n",
    "b[0] = 22\n",
    "print(a)"
   ]
  },
  {
   "cell_type": "code",
   "execution_count": 14,
   "metadata": {},
   "outputs": [
    {
     "name": "stdout",
     "output_type": "stream",
     "text": [
      "[[ 1  2  3  4]\n",
      " [ 5  6  7  8]\n",
      " [ 9 10 11 12]\n",
      " [13 14 15 16]\n",
      " [17 18 19 20]]\n",
      "11\n",
      "11\n"
     ]
    }
   ],
   "source": [
    "a = np.arange(1, 21).reshape(5, 4)\n",
    "print (a)\n",
    "print (a[2][2])\n",
    "print (a[2, 2])\n",
    "\n"
   ]
  },
  {
   "cell_type": "code",
   "execution_count": 15,
   "metadata": {},
   "outputs": [
    {
     "name": "stdout",
     "output_type": "stream",
     "text": [
      "(2, 2, 3) 3\n",
      "(2, 3) 2\n",
      "[[1 2 3]\n",
      " [4 5 6]]\n",
      "[4 5 6]\n"
     ]
    }
   ],
   "source": [
    "a = np.arange(1, 13).reshape(2, 2, 3)\n",
    "print (a.shape, a.ndim)\n",
    "print (a[0].shape, a[0].ndim)\n",
    "print (a[0])\n",
    "print (a[0][1])"
   ]
  },
  {
   "cell_type": "code",
   "execution_count": 16,
   "metadata": {},
   "outputs": [
    {
     "name": "stdout",
     "output_type": "stream",
     "text": [
      "[7 8 9]\n",
      "----\n",
      "[7 8 9]\n"
     ]
    }
   ],
   "source": [
    "\n",
    "##print (a)\n",
    "print (a[1, 0])\n",
    "print (\"----\")\n",
    "print (a[1][0])"
   ]
  },
  {
   "cell_type": "code",
   "execution_count": 17,
   "metadata": {},
   "outputs": [
    {
     "name": "stdout",
     "output_type": "stream",
     "text": [
      "[[[ 1  2  3]\n",
      "  [ 4  5  6]]\n",
      "\n",
      " [[ 7  8  9]\n",
      "  [10 11 12]]]\n",
      "----\n",
      "[[ 7 10]]\n"
     ]
    }
   ],
   "source": [
    "print (a)\n",
    "print (\"----\")\n",
    "print (a[1:,:,0])"
   ]
  },
  {
   "cell_type": "code",
   "execution_count": 18,
   "metadata": {},
   "outputs": [
    {
     "data": {
      "text/plain": [
       "array([[2, 3],\n",
       "       [5, 6]])"
      ]
     },
     "execution_count": 18,
     "metadata": {},
     "output_type": "execute_result"
    }
   ],
   "source": [
    "a = np.arange(1, 10).reshape(3,3)\n",
    "a[:2,1:]"
   ]
  },
  {
   "cell_type": "code",
   "execution_count": 19,
   "metadata": {},
   "outputs": [
    {
     "name": "stdout",
     "output_type": "stream",
     "text": [
      "[[1 2 3]\n",
      " [4 5 6]\n",
      " [7 8 9]]\n",
      "----\n",
      "[4 5]\n",
      "----\n",
      "[3 6]\n",
      "---\n",
      "[[1]\n",
      " [4]\n",
      " [7]]\n"
     ]
    }
   ],
   "source": [
    "print (a)\n",
    "print (\"----\")\n",
    "print (a[1,:2])\n",
    "print (\"----\")\n",
    "print (a[:2, 2])\n",
    "print (\"---\")\n",
    "print (a[:, :1])"
   ]
  },
  {
   "cell_type": "code",
   "execution_count": 20,
   "metadata": {},
   "outputs": [
    {
     "data": {
      "text/plain": [
       "array([[ 0.3978871 , -2.1741103 ,  0.72212814, -0.98220726],\n",
       "       [-1.4710556 , -0.11589382, -0.9798871 , -0.34444266],\n",
       "       [-1.23163447,  0.03814841,  0.10784089, -0.62912757],\n",
       "       [-1.22409911,  1.04141254,  0.03432052,  0.17716931],\n",
       "       [ 1.57632965,  0.82057426, -0.0753355 ,  0.71222322],\n",
       "       [ 0.88865728,  0.55405237,  0.62604503, -1.08686202],\n",
       "       [ 1.56305252, -2.39922078, -0.58046838,  0.94103045]])"
      ]
     },
     "execution_count": 20,
     "metadata": {},
     "output_type": "execute_result"
    }
   ],
   "source": [
    "## Boolean indexing\n",
    "\n",
    "names = np.array(['Bob', 'Joe', 'Will', 'Bob', 'Will', 'Joe', 'Joe'])\n",
    "data = np.random.randn(7, 4)\n",
    "data.dtype=np.float64\n",
    "data"
   ]
  },
  {
   "cell_type": "code",
   "execution_count": 21,
   "metadata": {},
   "outputs": [
    {
     "data": {
      "text/plain": [
       "array([[ 0.3978871 , -2.1741103 ,  0.72212814, -0.98220726],\n",
       "       [-1.22409911,  1.04141254,  0.03432052,  0.17716931]])"
      ]
     },
     "execution_count": 21,
     "metadata": {},
     "output_type": "execute_result"
    }
   ],
   "source": [
    "names == 'Bob'\n",
    "data[names == 'Bob']"
   ]
  },
  {
   "cell_type": "code",
   "execution_count": 22,
   "metadata": {},
   "outputs": [
    {
     "data": {
      "text/plain": [
       "array([[-1.4710556 , -0.11589382, -0.9798871 , -0.34444266],\n",
       "       [-1.23163447,  0.03814841,  0.10784089, -0.62912757],\n",
       "       [ 1.57632965,  0.82057426, -0.0753355 ,  0.71222322],\n",
       "       [ 0.88865728,  0.55405237,  0.62604503, -1.08686202],\n",
       "       [ 1.56305252, -2.39922078, -0.58046838,  0.94103045]])"
      ]
     },
     "execution_count": 22,
     "metadata": {},
     "output_type": "execute_result"
    }
   ],
   "source": [
    "data[names != 'Bob']"
   ]
  },
  {
   "cell_type": "code",
   "execution_count": 23,
   "metadata": {},
   "outputs": [
    {
     "name": "stdout",
     "output_type": "stream",
     "text": [
      "[[9. 9. 9. 9.]\n",
      " [9. 9. 9. 9.]]\n",
      "---\n",
      "[[ 0.3978871  -2.1741103   0.72212814 -0.98220726]\n",
      " [-1.4710556  -0.11589382 -0.9798871  -0.34444266]\n",
      " [-1.23163447  0.03814841  0.10784089 -0.62912757]\n",
      " [-1.22409911  1.04141254  0.03432052  0.17716931]\n",
      " [ 1.57632965  0.82057426 -0.0753355   0.71222322]\n",
      " [ 0.88865728  0.55405237  0.62604503 -1.08686202]\n",
      " [ 1.56305252 -2.39922078 -0.58046838  0.94103045]]\n"
     ]
    }
   ],
   "source": [
    "d = data[names == 'Bob']\n",
    "d[:] = 9\n",
    "print (d)\n",
    "print (\"---\")\n",
    "print (data)"
   ]
  },
  {
   "cell_type": "code",
   "execution_count": 24,
   "metadata": {},
   "outputs": [
    {
     "name": "stdout",
     "output_type": "stream",
     "text": [
      "[[0.3978871  0.         0.72212814 0.        ]\n",
      " [0.         0.         0.         0.        ]\n",
      " [0.         0.03814841 0.10784089 0.        ]\n",
      " [0.         1.04141254 0.03432052 0.17716931]\n",
      " [1.57632965 0.82057426 0.         0.71222322]\n",
      " [0.88865728 0.55405237 0.62604503 0.        ]\n",
      " [1.56305252 0.         0.         0.94103045]]\n"
     ]
    }
   ],
   "source": [
    "data[data < 0] = 0\n",
    "print (data)"
   ]
  },
  {
   "cell_type": "code",
   "execution_count": 25,
   "metadata": {},
   "outputs": [
    {
     "name": "stdout",
     "output_type": "stream",
     "text": [
      "[[0. 0. 0. 0.]\n",
      " [1. 1. 1. 1.]\n",
      " [2. 2. 2. 2.]\n",
      " [3. 3. 3. 3.]\n",
      " [4. 4. 4. 4.]\n",
      " [5. 5. 5. 5.]\n",
      " [6. 6. 6. 6.]\n",
      " [7. 7. 7. 7.]]\n"
     ]
    }
   ],
   "source": [
    "a = np.zeros((8, 4))\n",
    "for i in range(len(a)) :\n",
    "    a[i] = i\n",
    "print (a)"
   ]
  },
  {
   "cell_type": "code",
   "execution_count": 26,
   "metadata": {},
   "outputs": [
    {
     "name": "stdout",
     "output_type": "stream",
     "text": [
      "[[4. 4. 4. 4.]\n",
      " [3. 3. 3. 3.]\n",
      " [1. 1. 1. 1.]\n",
      " [6. 6. 6. 6.]]\n"
     ]
    }
   ],
   "source": [
    "print (a[[4, 3, 1, 6]])"
   ]
  },
  {
   "cell_type": "code",
   "execution_count": 27,
   "metadata": {},
   "outputs": [
    {
     "name": "stdout",
     "output_type": "stream",
     "text": [
      "[[ 0  1  2  3]\n",
      " [ 4  5  6  7]\n",
      " [ 8  9 10 11]\n",
      " [12 13 14 15]\n",
      " [16 17 18 19]\n",
      " [20 21 22 23]\n",
      " [24 25 26 27]\n",
      " [28 29 30 31]]\n",
      "----\n",
      "[ 4 23 26]\n"
     ]
    }
   ],
   "source": [
    "a = np.arange(32).reshape(8, 4)\n",
    "print (a)\n",
    "print (\"----\")\n",
    "print (a[[1, 5, 6], [0, 3, 2]])"
   ]
  },
  {
   "cell_type": "code",
   "execution_count": 28,
   "metadata": {},
   "outputs": [
    {
     "name": "stdout",
     "output_type": "stream",
     "text": [
      "[[ 0  1  2  3]\n",
      " [ 4  5  6  7]\n",
      " [ 8  9 10 11]\n",
      " [12 13 14 15]\n",
      " [16 17 18 19]\n",
      " [20 21 22 23]\n",
      " [24 25 26 27]\n",
      " [28 29 30 31]]\n",
      "---\n",
      "[[ 8 11  9]\n",
      " [16 19 17]\n",
      " [20 23 21]]\n"
     ]
    }
   ],
   "source": [
    "print (a)\n",
    "print (\"---\")\n",
    "print (a[[2, 4, 5]][:,[0,3,1]])"
   ]
  },
  {
   "cell_type": "code",
   "execution_count": 29,
   "metadata": {},
   "outputs": [
    {
     "name": "stdout",
     "output_type": "stream",
     "text": [
      "[[ 1  2  3]\n",
      " [ 4  5  6]\n",
      " [ 7  8  9]\n",
      " [10 11 12]]\n",
      "[[ 1  4  7 10]\n",
      " [ 2  5  8 11]\n",
      " [ 3  6  9 12]]\n"
     ]
    }
   ],
   "source": [
    "## Transposing arrays and swapping axes \n",
    "\n",
    "a = np.arange(1, 13).reshape(4, 3)\n",
    "print (a)\n",
    "print (a.T)"
   ]
  },
  {
   "cell_type": "code",
   "execution_count": 30,
   "metadata": {},
   "outputs": [
    {
     "name": "stdout",
     "output_type": "stream",
     "text": [
      "[[1 2]\n",
      " [3 4]]\n",
      "----\n",
      "[[ 5 11]\n",
      " [11 25]]\n",
      "----\n",
      "[[10 14]\n",
      " [14 20]]\n"
     ]
    }
   ],
   "source": [
    "a = np.arange(1, 5).reshape(2, 2)\n",
    "print (a)\n",
    "print (\"----\")\n",
    "print (a.dot(a.T))\n",
    "print (\"----\")\n",
    "print (a.T.dot(a))"
   ]
  },
  {
   "cell_type": "code",
   "execution_count": 31,
   "metadata": {},
   "outputs": [
    {
     "data": {
      "text/plain": [
       "array([1.00000000e+00, 2.71828183e+00, 7.38905610e+00, 2.00855369e+01,\n",
       "       5.45981500e+01, 1.48413159e+02, 4.03428793e+02, 1.09663316e+03,\n",
       "       2.98095799e+03, 8.10308393e+03])"
      ]
     },
     "execution_count": 31,
     "metadata": {},
     "output_type": "execute_result"
    }
   ],
   "source": [
    "## Universal functions\n",
    "\n",
    "a = np.arange(10)\n",
    "np.sqrt(a)\n",
    "np.exp(a)"
   ]
  },
  {
   "cell_type": "code",
   "execution_count": 32,
   "metadata": {},
   "outputs": [
    {
     "name": "stdout",
     "output_type": "stream",
     "text": [
      "[ 1.97757216 -1.01781061  0.4075105   0.57229496 -0.51818991 -0.01178201\n",
      "  2.15709473  0.43762447]\n",
      "----\n",
      "[-2.49042553  0.78329951  1.04541427  1.77627289 -0.10138826  2.31953855\n",
      " -1.05385054 -0.71279135]\n",
      "----\n",
      "[ 1.97757216  0.78329951  1.04541427  1.77627289 -0.10138826  2.31953855\n",
      "  2.15709473  0.43762447]\n"
     ]
    }
   ],
   "source": [
    "a = np.random.randn(8)\n",
    "b = np.random.randn(8)\n",
    "print (a)\n",
    "print (\"----\")\n",
    "print (b)\n",
    "print (\"----\")\n",
    "print (np.maximum(a, b))"
   ]
  },
  {
   "cell_type": "code",
   "execution_count": 47,
   "metadata": {},
   "outputs": [
    {
     "data": {
      "text/plain": [
       "array([[7.07106781, 7.06400028, 7.05693985, ..., 7.04988652, 7.05693985,\n",
       "        7.06400028],\n",
       "       [7.06400028, 7.05692568, 7.04985815, ..., 7.04279774, 7.04985815,\n",
       "        7.05692568],\n",
       "       [7.05693985, 7.04985815, 7.04278354, ..., 7.03571603, 7.04278354,\n",
       "        7.04985815],\n",
       "       ...,\n",
       "       [7.04988652, 7.04279774, 7.03571603, ..., 7.0286414 , 7.03571603,\n",
       "        7.04279774],\n",
       "       [7.05693985, 7.04985815, 7.04278354, ..., 7.03571603, 7.04278354,\n",
       "        7.04985815],\n",
       "       [7.06400028, 7.05692568, 7.04985815, ..., 7.04279774, 7.04985815,\n",
       "        7.05692568]])"
      ]
     },
     "execution_count": 47,
     "metadata": {},
     "output_type": "execute_result"
    }
   ],
   "source": [
    "## Array Oriented Programming with Arrays\n",
    "\n",
    "points = np.arange(-5, 5, 0.01)\n",
    "len(points)\n",
    "\n",
    "xs, ys = np.meshgrid(points, points)\n",
    "zs = np.sqrt(xs**2 + ys**2)\n",
    "zs"
   ]
  },
  {
   "cell_type": "code",
   "execution_count": 55,
   "metadata": {},
   "outputs": [
    {
     "name": "stdout",
     "output_type": "stream",
     "text": [
      "7.0710678118654755 1.507288760336424e-13\n"
     ]
    },
    {
     "data": {
      "image/png": "[encoded data removed]",
      "text/plain": [
       "<Figure size 432x288 with 2 Axes>"
      ]
     },
     "metadata": {
      "needs_background": "light"
     },
     "output_type": "display_data"
    }
   ],
   "source": [
    "import matplotlib.pyplot as plt\n",
    "%matplotlib inline\n",
    "\n",
    "plt.imshow(zs, cmap=plt.cm.gray); plt.colorbar()\n",
    "\n",
    "print(zs[0, 0], zs[500, 500])"
   ]
  },
  {
   "cell_type": "code",
   "execution_count": 60,
   "metadata": {},
   "outputs": [
    {
     "name": "stdout",
     "output_type": "stream",
     "text": [
      "[1.1, 2.2, 1.3, 1.4, 2.5]\n",
      "[1.1 2.2 1.3 1.4 2.5] <class 'numpy.ndarray'>\n"
     ]
    }
   ],
   "source": [
    "xarr = np.array([1.1, 1.2, 1.3, 1.4, 1.5])\n",
    "yarr = np.array([2.1, 2.2, 2.3, 2.4, 2.5])\n",
    "cond = np.array([True, False, True, True, False])\n",
    "\n",
    "result = [(x if c else y) for x, y, c in zip(xarr, yarr, cond)]\n",
    "print (result)\n",
    "\n",
    "result2 = np.where(cond, xarr, yarr)\n",
    "print (result2, type(result2))"
   ]
  },
  {
   "cell_type": "code",
   "execution_count": 63,
   "metadata": {},
   "outputs": [
    {
     "name": "stdout",
     "output_type": "stream",
     "text": [
      "[[ 1.15019963  1.43809086 -0.2347198  -0.12785415]\n",
      " [ 1.78484556  0.90368621  1.15998853  0.43417096]\n",
      " [ 0.33042471  0.95950791 -0.81038503  0.82998215]]\n",
      "[['+' '+' '-' '-']\n",
      " ['+' '+' '+' '+']\n",
      " ['+' '+' '-' '+']]\n"
     ]
    }
   ],
   "source": [
    "a = np.random.randn(3, 4)\n",
    "print (a)\n",
    "print (np.where(a > 0, \"+\", \"-\"))"
   ]
  },
  {
   "cell_type": "code",
   "execution_count": 76,
   "metadata": {},
   "outputs": [
    {
     "name": "stdout",
     "output_type": "stream",
     "text": [
      "0.6514947941646141 0.6514947941646141\n",
      "7.817937529975369\n",
      "----\n",
      "[1.08848997 1.10042833 0.03829457 0.37876632]\n",
      "[1.0884899661895908, 1.100428327678705, 0.038294565361914945, 0.3787663174282452]\n",
      "----\n",
      "[0.55642913 1.07067281 0.32738243]\n",
      "[0.5564291338018067, 1.070672814220223, 0.32738243447181214]\n"
     ]
    }
   ],
   "source": [
    "## Math and Statistical methods\n",
    "\n",
    "print (a.mean(), np.mean(a))\n",
    "print (a.sum())\n",
    "print (\"----\")\n",
    "print (a.mean(axis=0))\n",
    "print ([sum(a[:,x]/len(a)) for x in range(len(a[0]))])\n",
    "print (\"----\")\n",
    "print (a.mean(axis=1))\n",
    "print ([sum(x)/len(a[0]) for x in a])\n"
   ]
  },
  {
   "cell_type": "code",
   "execution_count": 78,
   "metadata": {},
   "outputs": [
    {
     "name": "stdout",
     "output_type": "stream",
     "text": [
      "[0 1 2 3 4 5 6 7 8 9]\n",
      "[ 0  1  3  6 10 15 21 28 36 45]\n"
     ]
    }
   ],
   "source": [
    "arr = np.arange(10)\n",
    "print (arr)\n",
    "print (arr.cumsum())"
   ]
  },
  {
   "cell_type": "code",
   "execution_count": 84,
   "metadata": {},
   "outputs": [
    {
     "name": "stdout",
     "output_type": "stream",
     "text": [
      "[[0 1 2]\n",
      " [3 4 5]\n",
      " [6 7 8]]\n",
      "---\n",
      "[[ 0  1  2]\n",
      " [ 3  5  7]\n",
      " [ 9 12 15]]\n",
      "---\n",
      "[[ 0  1  3]\n",
      " [ 3  7 12]\n",
      " [ 6 13 21]]\n"
     ]
    }
   ],
   "source": [
    "arr = np.arange(9).reshape(3, 3)\n",
    "print (arr)\n",
    "print (\"---\")\n",
    "print (arr.cumsum(0))\n",
    "print (\"---\")\n",
    "print (arr.cumsum(1))"
   ]
  },
  {
   "cell_type": "code",
   "execution_count": 85,
   "metadata": {},
   "outputs": [
    {
     "data": {
      "text/plain": [
       "array([[ 1.15019963,  1.43809086, -0.2347198 , -0.12785415],\n",
       "       [ 1.78484556,  0.90368621,  1.15998853,  0.43417096],\n",
       "       [ 0.33042471,  0.95950791, -0.81038503,  0.82998215]])"
      ]
     },
     "execution_count": 85,
     "metadata": {},
     "output_type": "execute_result"
    }
   ],
   "source": [
    "a"
   ]
  },
  {
   "cell_type": "code",
   "execution_count": 86,
   "metadata": {},
   "outputs": [
    {
     "data": {
      "text/plain": [
       "9"
      ]
     },
     "execution_count": 86,
     "metadata": {},
     "output_type": "execute_result"
    }
   ],
   "source": [
    "(a > 0).sum()"
   ]
  },
  {
   "cell_type": "code",
   "execution_count": 88,
   "metadata": {},
   "outputs": [
    {
     "data": {
      "text/plain": [
       "array([[-0.2347198 , -0.12785415,  1.15019963,  1.43809086],\n",
       "       [ 0.43417096,  0.90368621,  1.15998853,  1.78484556],\n",
       "       [-0.81038503,  0.33042471,  0.82998215,  0.95950791]])"
      ]
     },
     "execution_count": 88,
     "metadata": {},
     "output_type": "execute_result"
    }
   ],
   "source": [
    "a.sort()\n",
    "a"
   ]
  },
  {
   "cell_type": "code",
   "execution_count": 92,
   "metadata": {},
   "outputs": [
    {
     "data": {
      "text/plain": [
       "array([[-0.81038503, -0.12785415,  0.82998215,  0.95950791],\n",
       "       [-0.2347198 ,  0.33042471,  1.15019963,  1.43809086],\n",
       "       [ 0.43417096,  0.90368621,  1.15998853,  1.78484556]])"
      ]
     },
     "execution_count": 92,
     "metadata": {},
     "output_type": "execute_result"
    }
   ],
   "source": [
    "a.sort(0)\n",
    "a"
   ]
  },
  {
   "cell_type": "code",
   "execution_count": 99,
   "metadata": {},
   "outputs": [
    {
     "name": "stdout",
     "output_type": "stream",
     "text": [
      "[[0 1 2]\n",
      " [3 4 5]]\n",
      "[ 3  5  7  9 11 13 15 17 19]\n"
     ]
    }
   ],
   "source": [
    "## File input and output with arrays\n",
    "\n",
    "a = np.arange(6).reshape(2, 3)\n",
    "b = np.arange(3, 20, 2)\n",
    "np.savez(\"test.array\", a=a, b=b)\n",
    "l = np.load('test.array.npz')\n",
    "print (l['a'])\n",
    "print (l['b'])"
   ]
  },
  {
   "cell_type": "code",
   "execution_count": 103,
   "metadata": {},
   "outputs": [
    {
     "name": "stdout",
     "output_type": "stream",
     "text": [
      "[[ 3  8 15]\n",
      " [ 9  8  9]]\n",
      "[26 26]\n"
     ]
    }
   ],
   "source": [
    "## Linear Algebra\n",
    "\n",
    "a = np.array([1, 2, 3])\n",
    "b = np.array([[3, 4, 5], [9, 4, 3]])\n",
    "print (a*b)\n",
    "\n"
   ]
  },
  {
   "cell_type": "code",
   "execution_count": 108,
   "metadata": {},
   "outputs": [
    {
     "name": "stdout",
     "output_type": "stream",
     "text": [
      "[14 32]\n"
     ]
    }
   ],
   "source": [
    "a = np.array([[1, 2, 3], [4, 5, 6]])\n",
    "b = np.array([1, 2, 3])\n",
    "print (a.dot(b))"
   ]
  },
  {
   "cell_type": "code",
   "execution_count": 117,
   "metadata": {},
   "outputs": [
    {
     "name": "stdout",
     "output_type": "stream",
     "text": [
      "[[ 5 11]\n",
      " [11 25]]\n",
      "---\n",
      "[[1.0000000e+00 0.0000000e+00]\n",
      " [8.8817842e-16 1.0000000e+00]]\n",
      "----\n",
      "[[-0.06019293 -0.83449195  0.27017127 -0.47645303]\n",
      " [-0.30096463 -0.45762462 -0.00510124  0.83664447]\n",
      " [-0.54173634 -0.08075729 -0.80031132 -0.24392987]\n",
      " [-0.78250805  0.29611005  0.5352413  -0.11626158]] [[-1.66132477e+01 -1.82986497e+01 -1.99840516e+01 -2.16694536e+01]\n",
      " [ 0.00000000e+00 -1.07676380e+00 -2.15352761e+00 -3.23029141e+00]\n",
      " [ 0.00000000e+00  0.00000000e+00  1.61650912e-15  1.61650912e-15]\n",
      " [ 0.00000000e+00  0.00000000e+00  0.00000000e+00  4.93038066e-32]]\n",
      "---\n",
      "[[ 1.  2.  3.  4.]\n",
      " [ 5.  6.  7.  8.]\n",
      " [ 9. 10. 11. 12.]\n",
      " [13. 14. 15. 16.]]\n"
     ]
    }
   ],
   "source": [
    "from numpy.linalg import inv, qr\n",
    "\n",
    "a = np.arange(1, 5).reshape(2, 2)\n",
    "print (a.dot(a.T))\n",
    "print (\"---\")\n",
    "print (a.dot(inv(a)))\n",
    "print (\"----\")\n",
    "a = np.arange(1, 17).reshape(4, 4)\n",
    "q, r = qr(a)\n",
    "print (q, r)\n",
    "print (\"---\")\n",
    "print (q.dot(r))"
   ]
  },
  {
   "cell_type": "code",
   "execution_count": 121,
   "metadata": {},
   "outputs": [
    {
     "name": "stdout",
     "output_type": "stream",
     "text": [
      "[[ 0.482103   -0.73300434  0.99320411 -0.15789991]\n",
      " [ 0.50820563  0.38010374  0.9981753  -1.79560259]\n",
      " [-0.93831917  1.93234186 -0.3575306  -0.94753359]\n",
      " [ 1.42000123  2.48619749  0.72252337  0.51616834]]\n"
     ]
    }
   ],
   "source": [
    "## Pseudo random number generation\n",
    "\n",
    "samples = np.random.normal(size=(4, 4))\n",
    "print (samples)"
   ]
  },
  {
   "cell_type": "code",
   "execution_count": 127,
   "metadata": {},
   "outputs": [
    {
     "data": {
      "image/png": "[encoded data removed]",
      "text/plain": [
       "<Figure size 432x288 with 1 Axes>"
      ]
     },
     "metadata": {
      "needs_background": "light"
     },
     "output_type": "display_data"
    }
   ],
   "source": [
    "## Random walks\n",
    "import random\n",
    "\n",
    "## raw python way\n",
    "def purepythwalk(steps) :\n",
    "    pos = 0\n",
    "    walk = [pos]\n",
    "    for i in range(steps) :\n",
    "        step = 1 if random.randint(0, 1) else -1\n",
    "        pos += step\n",
    "        walk.append(pos)\n",
    "    if steps > 100 : walk = walk[:100]\n",
    "    plt.plot(walk[:100])\n",
    "\n",
    "purepythwalk(1000)\n"
   ]
  },
  {
   "cell_type": "code",
   "execution_count": 130,
   "metadata": {},
   "outputs": [
    {
     "data": {
      "image/png": "[encoded data removed]",
      "text/plain": [
       "<Figure size 432x288 with 1 Axes>"
      ]
     },
     "metadata": {
      "needs_background": "light"
     },
     "output_type": "display_data"
    }
   ],
   "source": [
    "def numpywalk(steps) :\n",
    "    draws = np.random.randint(0, 2, size=steps)\n",
    "    steps = np.where(draws > 0, 1, -1)\n",
    "    walk = steps.cumsum()\n",
    "    plt.plot(walk[:100])\n",
    "\n",
    "numpywalk(1000)"
   ]
  },
  {
   "cell_type": "code",
   "execution_count": 133,
   "metadata": {},
   "outputs": [
    {
     "name": "stdout",
     "output_type": "stream",
     "text": [
      "[0 1 2 3 4 5 6 7 8 9]\n",
      "[ 0  1  3  6 10 15 21 28 36 45]\n"
     ]
    }
   ],
   "source": [
    "a = np.arange(10)\n",
    "print (a)\n",
    "print (a.cumsum())"
   ]
  },
  {
   "cell_type": "code",
   "execution_count": null,
   "metadata": {},
   "outputs": [],
   "source": []
  }
 ],
 "metadata": {
  "kernelspec": {
   "display_name": "Python 3",
   "language": "python",
   "name": "python3"
  },
  "language_info": {
   "codemirror_mode": {
    "name": "ipython",
    "version": 3
   },
   "file_extension": ".py",
   "mimetype": "text/x-python",
   "name": "python",
   "nbconvert_exporter": "python",
   "pygments_lexer": "ipython3",
   "version": "3.7.4"
  }
 },
 "nbformat": 4,
 "nbformat_minor": 2
}
